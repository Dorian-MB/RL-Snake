{
 "cells": [
  {
   "cell_type": "code",
   "execution_count": 6,
   "id": "e92f12a7",
   "metadata": {},
   "outputs": [],
   "source": [
    "from time import perf_counter as time\n",
    "from pathlib import Path\n",
    "import sys\n",
    "sys.path.append(str(Path.cwd().parent))\n",
    "from snake_game.snake_game import SnakeGame as SnakeGame1\n",
    "from snake_game.fast_snake import FastSnakeGame as SnakeGame2"
   ]
  },
  {
   "cell_type": "code",
   "execution_count": 7,
   "id": "6e935531",
   "metadata": {},
   "outputs": [],
   "source": [
    "def test_speed(game):\n",
    "    from time import time\n",
    "    T = time()\n",
    "    for i in range(10_000_000):\n",
    "        action = 0 if i % 2 == 0 else 2\n",
    "        game.step(action) # up/down\n",
    "    print(game.game_over)   \n",
    "    return time()-T"
   ]
  },
  {
   "cell_type": "code",
   "execution_count": null,
   "id": "486f0d8b",
   "metadata": {},
   "outputs": [
    {
     "name": "stdout",
     "output_type": "stream",
     "text": [
      "False\n",
      "False\n"
     ]
    },
    {
     "data": {
      "text/plain": [
       "(40.59268927574158, 33.826714754104614)"
      ]
     },
     "execution_count": 8,
     "metadata": {},
     "output_type": "execute_result"
    }
   ],
   "source": [
    "# Pc Ryzen 7 5700X3D & RT 7800XT (32Go RAM)\n",
    "test_speed(SnakeGame1(10)), test_speed(SnakeGame2(10))"
   ]
  },
  {
   "cell_type": "code",
   "execution_count": null,
   "id": "bbe25307",
   "metadata": {},
   "outputs": [
    {
     "name": "stdout",
     "output_type": "stream",
     "text": [
      "False\n",
      "False\n"
     ]
    },
    {
     "data": {
      "text/plain": [
       "(55.28257203102112, 42.39701700210571)"
      ]
     },
     "execution_count": 8,
     "metadata": {},
     "output_type": "execute_result"
    }
   ],
   "source": [
    "# Macbookpro intel 2020 (16Go RAM)\n",
    "# test_speed(SnakeGame1(10)), test_speed(SnakeGame2(10))"
   ]
  },
  {
   "cell_type": "code",
   "execution_count": null,
   "id": "293956b7",
   "metadata": {},
   "outputs": [],
   "source": []
  }
 ],
 "metadata": {
  "kernelspec": {
   "display_name": ".env",
   "language": "python",
   "name": "python3"
  },
  "language_info": {
   "codemirror_mode": {
    "name": "ipython",
    "version": 3
   },
   "file_extension": ".py",
   "mimetype": "text/x-python",
   "name": "python",
   "nbconvert_exporter": "python",
   "pygments_lexer": "ipython3",
   "version": "3.10.0"
  }
 },
 "nbformat": 4,
 "nbformat_minor": 5
}
